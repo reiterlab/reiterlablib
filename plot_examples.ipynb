{
 "cells": [
  {
   "cell_type": "code",
   "execution_count": 1,
   "id": "3afdd8e8-4700-45ee-a745-e9d934c97be5",
   "metadata": {},
   "outputs": [],
   "source": [
    "import pandas as pd\n",
    "import numpy as np\n",
    "import scipy as sp\n",
    "import os\n",
    "import math\n",
    "from collections import defaultdict\n",
    "import matplotlib.pyplot as plt\n",
    "from matplotlib import rcParams\n",
    "import seaborn as sns\n",
    "\n",
    "from rll.plotting import *\n",
    "%matplotlib inline"
   ]
  },
  {
   "cell_type": "code",
   "execution_count": 2,
   "id": "3bef9ad0-ddfc-4e93-834b-50c2bfaa7e32",
   "metadata": {},
   "outputs": [],
   "source": [
    "# example dataset\n",
    "c_sex = 'sex'\n",
    "c_size = 'size'\n",
    "c_survival = 'survival'\n",
    "data = [[1, 0.5, 'male'], [1, 0.9, 'female'],\n",
    "        [2, 0.45, 'male'], [2, 0.75, 'female'],\n",
    "        [3, 0.41, 'male'], [3, 0.7, 'female'],\n",
    "        [4, 0.44, 'male'], [4, 0.65, 'female'],\n",
    "        [5, 0.36, 'male'], [5, 0.63, 'female'],\n",
    "       ]\n",
    "df = pd.DataFrame(data, columns=[c_size, c_survival, c_sex])"
   ]
  },
  {
   "cell_type": "code",
   "execution_count": 3,
   "id": "da26538d-ef20-4bea-94fe-31eb2c06302c",
   "metadata": {},
   "outputs": [
    {
     "name": "stderr",
     "output_type": "stream",
     "text": [
      "2022-01-18 15:53:02,741 rll.plotting:309 INFO: Created bar plot: fig_barplot_grouped.pdf\n",
      "2022-01-18 15:53:02,872 rll.plotting:309 INFO: Created bar plot: fig_barplot_grouped.pdf\n"
     ]
    },
    {
     "data": {
      "image/png": "[encoded data removed]",
      "text/plain": [
       "<Figure size 230.4x194.4 with 1 Axes>"
      ]
     },
     "metadata": {
      "needs_background": "light"
     },
     "output_type": "display_data"
    }
   ],
   "source": [
    "figsize = (3.2, 2.7)\n",
    "xs = np.linspace(1, 5, 5)\n",
    "xlim = (0.6, 5.4)\n",
    "xticks = np.linspace(1, 5, 5)\n",
    "ylim = (0, 1.0)\n",
    "width = 0.3\n",
    "xlabel = 'Size [cm]'\n",
    "ylabel = 'Survival'\n",
    "\n",
    "txt_colors = ['dimgray', 'firebrick'] # ['royalblue', 'crimson'] # \n",
    "bar_colors = txt_colors # ['cornflowerblue', 'lightcoral']\n",
    "fig_fp = f'fig_barplot_grouped.pdf'\n",
    "fig, ax = plt.subplots(figsize=figsize)\n",
    "\n",
    "xpos = 0.98\n",
    "ypos = 1.02\n",
    "for s, sex in enumerate(df[c_sex].unique()):\n",
    "    notes = {\n",
    "        (xpos, ypos-s*0.09): {'text': f'{sex} (mean {df[df[c_sex] == sex][c_survival].mean():.0%})', \n",
    "                              'color': txt_colors[s], 'fontsize': 11, 'ha': 'right',}, \n",
    "        }\n",
    "    plot_barplot(xs-width/2*(-1)**s, df[df[c_sex] == sex][c_survival], xlim=xlim, ylim=ylim, xticks=xticks, bar_color=bar_colors[s],\n",
    "             width=width, xlabel=xlabel, ylabel=ylabel, notes=notes, ax=ax, \n",
    "             output_fp=fig_fp);"
   ]
  },
  {
   "cell_type": "code",
   "execution_count": null,
   "id": "ab544017-7be6-4a43-ae2f-0d0fa77a4964",
   "metadata": {},
   "outputs": [],
   "source": []
  }
 ],
 "metadata": {
  "kernelspec": {
   "display_name": "Python 3",
   "language": "python",
   "name": "python3"
  },
  "language_info": {
   "codemirror_mode": {
    "name": "ipython",
    "version": 3
   },
   "file_extension": ".py",
   "mimetype": "text/x-python",
   "name": "python",
   "nbconvert_exporter": "python",
   "pygments_lexer": "ipython3",
   "version": "3.6.13"
  }
 },
 "nbformat": 4,
 "nbformat_minor": 5
}
